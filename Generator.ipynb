{
  "nbformat": 4,
  "nbformat_minor": 0,
  "metadata": {
    "colab": {
      "name": "Generator",
      "provenance": [],
      "collapsed_sections": [],
      "authorship_tag": "ABX9TyPVq2cfODaaSBccS539yG9A",
      "include_colab_link": true
    },
    "kernelspec": {
      "name": "python3",
      "display_name": "Python 3"
    },
    "language_info": {
      "name": "python"
    }
  },
  "cells": [
    {
      "cell_type": "markdown",
      "metadata": {
        "id": "view-in-github",
        "colab_type": "text"
      },
      "source": [
        "<a href=\"https://colab.research.google.com/github/tysonbunker/generatorAutoStart/blob/main/Generator.ipynb\" target=\"_parent\"><img src=\"https://colab.research.google.com/assets/colab-badge.svg\" alt=\"Open In Colab\"/></a>"
      ]
    },
    {
      "cell_type": "code",
      "metadata": {
        "id": "WFNcowBWFsJk"
      },
      "source": [
        "#### Imports ####\n",
        "\n",
        "import time as t\n",
        "\n",
        "#####   SETUP   #####\n",
        "\n",
        "#functions\n",
        "#scaling for degrees to duty cycle\n",
        "def degToDC(degSet):\n",
        "  maxDeg = 180\n",
        "  minDeg = 0\n",
        "  degDelta = maxDeg - minDeg\n",
        "  maxDC = 20\n",
        "  minDC = 2\n",
        "  DC = (degSet/degDelta)*(maxDC-minDC)+minDC\n",
        "  print(DC)\n",
        "  print(degSet)\n",
        "  return DC\n",
        "\n",
        "#constants\n",
        "gasOnPin = 0\n",
        "propaneOnPinNum = 1\n",
        "\n",
        "#initializing variables\n",
        "gasOn = 0\n",
        "propaneOn = 0\n",
        "chokeOn = 0\n",
        "startOn = 0\n",
        "\n",
        "#constants\n",
        "chokeTime = 3000\n",
        "\n",
        "servoPosition = 0\n",
        "#servo positions\n",
        "gasOnPos = 180\n",
        "offPos = 90\n",
        "propaneOnPos = 22\n",
        "\n",
        "\n",
        "\n",
        "###########   MAIN LOOP   ###########\n",
        "\n",
        "while 1:\n",
        "  if gasOn:\n",
        "    servoPosition = gasOnPos\n",
        "  elif propaneOn:\n",
        "    servoPosition = propaneOnPos\n",
        "  else:\n",
        "    servoPosition = offPos\n",
        "  servoDC = degToDC(servoPosition)\n",
        "\n",
        "  if startOn and (gasOn or propaneOn):\n",
        "    chokeOn = 1\n",
        "    t.delay(500)\n",
        "    startOut = 1\n",
        "    t.delay(chokeTime)\n",
        "    chokeOn = 0\n",
        "  else:\n",
        "    chokeOn = 0\n",
        "    startOut = 0\n",
        "\n"
      ],
      "execution_count": null,
      "outputs": []
    }
  ]
}